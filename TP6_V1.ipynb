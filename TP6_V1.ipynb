{
 "cells": [
  {
   "cell_type": "markdown",
   "metadata": {},
   "source": [
    "## Importations"
   ]
  },
  {
   "cell_type": "code",
   "execution_count": 1,
   "metadata": {},
   "outputs": [],
   "source": [
    "import numpy as np\n",
    "import torch"
   ]
  },
  {
   "cell_type": "markdown",
   "metadata": {},
   "source": [
    "## Valeurs initiales"
   ]
  },
  {
   "cell_type": "code",
   "execution_count": 2,
   "metadata": {},
   "outputs": [],
   "source": [
    "W1 = torch.from_numpy(np.array([[0., 1.], [0., -1]]))\n",
    "W2 = torch.from_numpy(np.array([[1., 2.], [2., -1]]))\n",
    "\n",
    "W1.requires_grad = True\n",
    "W2.requires_grad = True\n",
    "\n",
    "x = torch.from_numpy(np.array([1., 1.]))\n",
    "y = torch.from_numpy(np.array([1., 0.]))"
   ]
  },
  {
   "cell_type": "markdown",
   "metadata": {},
   "source": [
    "## Forward-pass"
   ]
  },
  {
   "cell_type": "code",
   "execution_count": 3,
   "metadata": {},
   "outputs": [],
   "source": [
    "def forward_pass(x, W1, W2):\n",
    "    u1 = torch.matmul(W1, x)\n",
    "    u2 = torch.relu(u1)\n",
    "    u3 = torch.matmul(W2, u2)\n",
    "    # h = torch.softmax(u3, dim=0)\n",
    "    return u3"
   ]
  },
  {
   "cell_type": "markdown",
   "metadata": {},
   "source": [
    "## Appel de la fonction"
   ]
  },
  {
   "cell_type": "code",
   "execution_count": 4,
   "metadata": {},
   "outputs": [
    {
     "data": {
      "text/plain": [
       "tensor([1., 2.], dtype=torch.float64, grad_fn=<MvBackward0>)"
      ]
     },
     "execution_count": 4,
     "metadata": {},
     "output_type": "execute_result"
    }
   ],
   "source": [
    "forward_pass(x, W1, W2)"
   ]
  },
  {
   "cell_type": "markdown",
   "metadata": {},
   "source": [
    "## Fonction de perte"
   ]
  },
  {
   "cell_type": "code",
   "execution_count": 5,
   "metadata": {},
   "outputs": [],
   "source": [
    "loss_fn = torch.nn.CrossEntropyLoss()"
   ]
  },
  {
   "cell_type": "code",
   "execution_count": 6,
   "metadata": {},
   "outputs": [
    {
     "name": "stdout",
     "output_type": "stream",
     "text": [
      "0 tensor(1.3133, dtype=torch.float64, grad_fn=<DivBackward1>)\n",
      "1 tensor(1.1226, dtype=torch.float64, grad_fn=<DivBackward1>)\n",
      "2 tensor(0.8839, dtype=torch.float64, grad_fn=<DivBackward1>)\n",
      "3 tensor(0.7279, dtype=torch.float64, grad_fn=<DivBackward1>)\n",
      "4 tensor(0.6931, dtype=torch.float64, grad_fn=<DivBackward1>)\n",
      "5 tensor(0.6931, dtype=torch.float64, grad_fn=<DivBackward1>)\n",
      "6 tensor(0.6931, dtype=torch.float64, grad_fn=<DivBackward1>)\n",
      "7 tensor(0.6931, dtype=torch.float64, grad_fn=<DivBackward1>)\n",
      "8 tensor(0.6931, dtype=torch.float64, grad_fn=<DivBackward1>)\n",
      "9 tensor(0.6931, dtype=torch.float64, grad_fn=<DivBackward1>)\n"
     ]
    }
   ],
   "source": [
    "lr = 0.1 # Learning rate\n",
    "\n",
    "for t in range(10):\n",
    "    y_pred = forward_pass(x, W1, W2)\n",
    "    erreur = loss_fn(y_pred, y)\n",
    "\n",
    "    erreur.backward()\n",
    "    print(t, erreur)\n",
    "    with torch.no_grad():\n",
    "        # print(W1.grad)\n",
    "        # print(W2.grad)\n",
    "        W1 -= lr * W1.grad\n",
    "        W2 -= lr * W2.grad\n",
    "        # print(W1)\n",
    "        # print(W2)"
   ]
  }
 ],
 "metadata": {
  "kernelspec": {
   "display_name": "venv",
   "language": "python",
   "name": "python3"
  },
  "language_info": {
   "codemirror_mode": {
    "name": "ipython",
    "version": 3
   },
   "file_extension": ".py",
   "mimetype": "text/x-python",
   "name": "python",
   "nbconvert_exporter": "python",
   "pygments_lexer": "ipython3",
   "version": "3.10.12"
  }
 },
 "nbformat": 4,
 "nbformat_minor": 2
}
