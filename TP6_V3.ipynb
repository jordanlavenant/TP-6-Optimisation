{
 "cells": [
  {
   "cell_type": "markdown",
   "metadata": {},
   "source": [
    "## Imports"
   ]
  },
  {
   "cell_type": "code",
   "execution_count": 20,
   "metadata": {},
   "outputs": [],
   "source": [
    "import numpy as np\n",
    "import torch\n",
    "import matplotlib.pyplot as plt\n",
    "import pandas as pd"
   ]
  },
  {
   "cell_type": "markdown",
   "metadata": {},
   "source": [
    "## Utils import"
   ]
  },
  {
   "cell_type": "code",
   "execution_count": 21,
   "metadata": {},
   "outputs": [],
   "source": [
    "from utils import load_data2, encode_attributs_category, convert_to_tensor, pre_processing"
   ]
  },
  {
   "cell_type": "markdown",
   "metadata": {},
   "source": [
    "## Préparation des données"
   ]
  },
  {
   "cell_type": "code",
   "execution_count": 22,
   "metadata": {},
   "outputs": [],
   "source": [
    "# Load\n",
    "train_data, test_data = load_data2()\n",
    "\n",
    "# Suppresion des lignes avc valeurs manquantes\n",
    "X_train, y_train, X_test, y_test = pre_processing(train_data, test_data)\n",
    "\n",
    "# conversion des données catégorielles en numériques (one_hot_encoding)\n",
    "X_train, y_train, X_test, y_test = encode_attributs_category(X_train, y_train, X_test, y_test)\n",
    "\n",
    "X_train_tensor, y_train_tensor, X_test_tensor, y_test_tensor = convert_to_tensor(X_train, y_train, X_test, y_test)"
   ]
  },
  {
   "cell_type": "code",
   "execution_count": 23,
   "metadata": {},
   "outputs": [
    {
     "data": {
      "text/plain": [
       "13"
      ]
     },
     "execution_count": 23,
     "metadata": {},
     "output_type": "execute_result"
    }
   ],
   "source": [
    "X_train_tensor.shape[1]"
   ]
  },
  {
   "cell_type": "markdown",
   "metadata": {},
   "source": [
    "## Model"
   ]
  },
  {
   "cell_type": "code",
   "execution_count": 24,
   "metadata": {},
   "outputs": [],
   "source": [
    "model = torch.nn.Sequential(\n",
    "    torch.nn.Linear(X_train.shape[1], 8), # ! 13\n",
    "    torch.nn.ReLU(),\n",
    "    torch.nn.Linear(8, 2)\n",
    ")"
   ]
  },
  {
   "cell_type": "markdown",
   "metadata": {},
   "source": [
    "## Fonction de perte"
   ]
  },
  {
   "cell_type": "code",
   "execution_count": 25,
   "metadata": {},
   "outputs": [],
   "source": [
    "loss_fn = torch.nn.CrossEntropyLoss()\n",
    "\n",
    "lr = 1e-5 # Learning rate\n",
    "\n",
    "optimizer = torch.optim.SGD(model.parameters(), lr=lr)"
   ]
  },
  {
   "cell_type": "code",
   "execution_count": 26,
   "metadata": {},
   "outputs": [
    {
     "name": "stdout",
     "output_type": "stream",
     "text": [
      "0 tensor(22076.9453, grad_fn=<DivBackward1>)\n",
      "1 tensor(23.8820, grad_fn=<DivBackward1>)\n",
      "2 tensor(8.2723, grad_fn=<DivBackward1>)\n",
      "3 tensor(6.8324, grad_fn=<DivBackward1>)\n",
      "4 tensor(5.3703, grad_fn=<DivBackward1>)\n",
      "5 tensor(4.0644, grad_fn=<DivBackward1>)\n",
      "6 tensor(2.9016, grad_fn=<DivBackward1>)\n",
      "7 tensor(2.2218, grad_fn=<DivBackward1>)\n",
      "8 tensor(1.8381, grad_fn=<DivBackward1>)\n",
      "9 tensor(1.5715, grad_fn=<DivBackward1>)\n"
     ]
    },
    {
     "data": {
      "image/png": "[encoded data removed]",
      "text/plain": [
       "<Figure size 640x480 with 1 Axes>"
      ]
     },
     "metadata": {},
     "output_type": "display_data"
    }
   ],
   "source": [
    "for t in range(10):\n",
    "    # ! y_pred = forward_pass(x, W1, W2)\n",
    "    y_pred = model(X_train_tensor)\n",
    "    erreur = loss_fn(y_pred, y_train_tensor)\n",
    "\n",
    "    erreur.backward()\n",
    "    print(t, erreur)\n",
    "    \n",
    "    optimizer.step()\n",
    "\n",
    "    plt.plot(t, erreur.item(), 'ro')"
   ]
  }
 ],
 "metadata": {
  "kernelspec": {
   "display_name": "venv",
   "language": "python",
   "name": "python3"
  },
  "language_info": {
   "codemirror_mode": {
    "name": "ipython",
    "version": 3
   },
   "file_extension": ".py",
   "mimetype": "text/x-python",
   "name": "python",
   "nbconvert_exporter": "python",
   "pygments_lexer": "ipython3",
   "version": "3.10.12"
  }
 },
 "nbformat": 4,
 "nbformat_minor": 2
}
